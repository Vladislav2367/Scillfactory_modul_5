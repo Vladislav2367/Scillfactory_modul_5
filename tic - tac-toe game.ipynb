{
 "cells": [
  {
   "cell_type": "markdown",
   "metadata": {},
   "source": [
    "Первоначальное окно"
   ]
  },
  {
   "cell_type": "code",
   "execution_count": 5,
   "metadata": {},
   "outputs": [
    {
     "name": "stdout",
     "output_type": "stream",
     "text": [
      "\n",
      "\n",
      "                                                 // TIC-TAC-TOE Game //     \n",
      "                                                     крестики-нолики  \n",
      "\n",
      "                                                      Порядок ввода: \n",
      "\n",
      "                                                     x - номер строки  \n",
      "                                                     y - номер столбца \n"
     ]
    }
   ],
   "source": [
    "def first_window():\n",
    "    print(\"\")\n",
    "    print(\"\")\n",
    "    print(\"                                                 // TIC-TAC-TOE Game //     \")\n",
    "    print(\"                                                     крестики-нолики  \")\n",
    "    print(\"\")\n",
    "    print(\"                                                      Порядок ввода: \")\n",
    "    print(\"\")\n",
    "    print(\"                                                     x - номер строки  \")\n",
    "    print(\"                                                     y - номер столбца \")\n",
    "first_window()"
   ]
  },
  {
   "cell_type": "markdown",
   "metadata": {},
   "source": [
    "Массив пространства игры"
   ]
  },
  {
   "cell_type": "code",
   "execution_count": 2,
   "metadata": {},
   "outputs": [],
   "source": [
    "array_game = [[\" \", \" \", \" \"] for i in range(3) ]"
   ]
  },
  {
   "cell_type": "markdown",
   "metadata": {},
   "source": [
    "Рисуем клеточки"
   ]
  },
  {
   "cell_type": "code",
   "execution_count": 5,
   "metadata": {},
   "outputs": [
    {
     "name": "stdout",
     "output_type": "stream",
     "text": [
      "\n",
      "                                                     --------------- \n",
      "                                                    3  |   |   |   | \n",
      "                                                     --------------- \n",
      "                                                    2  |   |   |   | \n",
      "                                                     --------------- \n",
      "                                                    1  |   |   |   | \n",
      "                                                     --------------- \n",
      "                                                    Y/X| 1 | 2 | 3 | \n"
     ]
    }
   ],
   "source": [
    "def cells():\n",
    "    print()\n",
    "    print(\"                                                     --------------- \")\n",
    "    for i, row in enumerate(array_game):\n",
    "        row_str = f\"                                                    {3-i}  | {' | '.join(row)} | \"\n",
    "        print(row_str)\n",
    "        print(\"                                                     --------------- \")\n",
    "    print(\"                                                    Y/X| 1 | 2 | 3 | \")\n",
    "cells()"
   ]
  },
  {
   "cell_type": "markdown",
   "metadata": {},
   "source": [
    "Координаты ходов"
   ]
  },
  {
   "cell_type": "code",
   "execution_count": 4,
   "metadata": {},
   "outputs": [
    {
     "name": "stdout",
     "output_type": "stream",
     "text": [
      "                  Введите координату клеточки по Х (от 1 до 3): 5\n",
      "                  Введите координату клеточки по Y (от 1 до 3): 1\n",
      "\n",
      "                 //Внимание! Необходимо число от 1 до 3//\n",
      "                  Введите координату клеточки по Х (от 1 до 3): 2\n",
      "                  Введите координату клеточки по Y (от 1 до 3): 1\n"
     ]
    },
    {
     "data": {
      "text/plain": [
       "(2, 1)"
      ]
     },
     "execution_count": 4,
     "metadata": {},
     "output_type": "execute_result"
    }
   ],
   "source": [
    "def coordin():\n",
    "    while True:\n",
    "        x = input(\"                  Введите координату клеточки по Х (от 1 до 3): \",)\n",
    "        y = input(\"                  Введите координату клеточки по Y (от 1 до 3): \",)\n",
    "                      \n",
    "        if not(x.isdigit()) or not(y.isdigit()):\n",
    "            print(\"\")\n",
    "            print(\"                  Внимание! Необходимо число от 1 до 3\")\n",
    "            continue\n",
    "        \n",
    "        x = int(x)\n",
    "        y = int(y)\n",
    "        \n",
    "        if 1 > x or x > 3 or  1 > y or  y > 3 :\n",
    "            print(\"\")\n",
    "            print(\"                 //Внимание! Необходимо число от 1 до 3//\")\n",
    "            continue\n",
    "        \n",
    "        if array_game[x][y] != \" \":\n",
    "            print(\"\")\n",
    "            print(\"                 // Клетка занята!!! // \")\n",
    "            continue\n",
    "        \n",
    "        return x, y\n",
    "            \n",
    "coordin()"
   ]
  },
  {
   "cell_type": "markdown",
   "metadata": {},
   "source": [
    "Алгоритм ходов"
   ]
  },
  {
   "cell_type": "code",
   "execution_count": null,
   "metadata": {},
   "outputs": [],
   "source": [
    "alg_moves()\n",
    "array_game = [[\" \", \" \", \" \"] for i in range(3) ]\n",
    "k = 0\n",
    "while True:\n",
    "    k += 1\n",
    "    show()\n",
    "    if k % 2 == 0:\n",
    "        print(\" Ходит нолик!\")\n",
    "    else:\n",
    "        print(\" Ходит крестик!\")\n",
    "    \n",
    "    x, y = coordin()\n",
    "    \n",
    "    if count % 2 == 0:\n",
    "        array_game[x][y] = \"0\"\n",
    "    else:\n",
    "        array_game[x][y] = \"X\"\n",
    "    \n",
    "    if check_win():\n",
    "        break\n",
    "    \n",
    "    if k == 9:\n",
    "        print(\" Ничья!\")\n",
    "        break"
   ]
  }
 ],
 "metadata": {
  "kernelspec": {
   "display_name": "Python 3",
   "language": "python",
   "name": "python3"
  },
  "language_info": {
   "codemirror_mode": {
    "name": "ipython",
    "version": 3
   },
   "file_extension": ".py",
   "mimetype": "text/x-python",
   "name": "python",
   "nbconvert_exporter": "python",
   "pygments_lexer": "ipython3",
   "version": "3.8.5"
  }
 },
 "nbformat": 4,
 "nbformat_minor": 4
}
